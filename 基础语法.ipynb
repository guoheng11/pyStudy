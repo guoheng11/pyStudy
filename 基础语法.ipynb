{
 "cells": [
  {
   "cell_type": "code",
   "execution_count": 6,
   "metadata": {
    "code_folding": [
     0
    ],
    "collapsed": true
   },
   "outputs": [
    {
     "name": "stdout",
     "output_type": "stream",
     "text": [
      "a\n",
      "b\n",
      "a b\n",
      "a b\n"
     ]
    }
   ],
   "source": [
    "#py\n",
    "x='a'\n",
    "y='b'\n",
    "#py默认换行\n",
    "print x\n",
    "print y\n",
    "#py不换行需要 逗号 1\n",
    "print x,\n",
    "print y\n",
    "#py不换行需要 逗号 2\n",
    "print x,y"
   ]
  },
  {
   "cell_type": "code",
   "execution_count": 10,
   "metadata": {
    "code_folding": [
     0
    ],
    "collapsed": true
   },
   "outputs": [
    {
     "name": "stdout",
     "output_type": "stream",
     "text": [
      "1 2\n"
     ]
    }
   ],
   "source": [
    "#py代码块语法if else\n",
    "if True:\n",
    "    print 1,\n",
    "    print 2\n",
    "else :\n",
    "    print 4"
   ]
  },
  {
   "cell_type": "code",
   "execution_count": 14,
   "metadata": {
    "code_folding": [
     0
    ],
    "collapsed": true
   },
   "outputs": [
    {
     "name": "stdout",
     "output_type": "stream",
     "text": [
      "100\n",
      "10000\n",
      "Jhon\n"
     ]
    }
   ],
   "source": [
    "#py变量赋值\n",
    "counter = 100\n",
    "miles = 10000\n",
    "name = \"Jhon\"\n",
    "print counter\n",
    "print miles\n",
    "print name"
   ]
  },
  {
   "cell_type": "code",
   "execution_count": 17,
   "metadata": {
    "code_folding": [
     0
    ],
    "collapsed": true
   },
   "outputs": [
    {
     "name": "stdout",
     "output_type": "stream",
     "text": [
      "1 2 4\n",
      "1 3 4\n"
     ]
    }
   ],
   "source": [
    "#py多个变量赋值\n",
    "#多个变量赋一个值\n",
    "a=b=c=1\n",
    "#多个变量赋值多个\n",
    "a,b,c=1,2,4\n",
    "x,y,z=1,3,4\n",
    "print a,b,c\n",
    "print x,y,z"
   ]
  },
  {
   "cell_type": "code",
   "execution_count": null,
   "metadata": {
    "code_folding": [
     0
    ]
   },
   "outputs": [],
   "source": [
    "#标准数据类型\n",
    "# Numbers（数字）\n",
    "# String（字符串）\n",
    "# List（列表）\n",
    "# Tuple（元组）\n",
    "# Dictionary（字典）\n",
    "var1 = 10\n",
    "var2 = 20\n",
    "#del 删除对象引用\n",
    "del var1\n",
    "del var2\n",
    "# Python支持四种不同的数字类型：\n",
    "\n",
    "# int（有符号整型）\n",
    "# long（长整型[也可以代表八进制和十六进制]）\n",
    "# float（浮点型）\n",
    "# complex（复数）\n",
    "# 我们把形如z=a+bi（a,b均为实数）的数称为复数，\n",
    "# 其中a称为实部，b称为虚部，i称为虚数单位\n"
   ]
  },
  {
   "cell_type": "code",
   "execution_count": 19,
   "metadata": {},
   "outputs": [
    {
     "data": {
      "text/plain": [
       "'f'"
      ]
     },
     "execution_count": 19,
     "metadata": {},
     "output_type": "execute_result"
    }
   ],
   "source": [
    "#字符串处理\n",
    "str = \"dfhghjjkk\"\n",
    "str[1:2]\n",
    "\n"
   ]
  }
 ],
 "metadata": {
  "kernelspec": {
   "display_name": "py27",
   "language": "python",
   "name": "py27"
  },
  "language_info": {
   "codemirror_mode": {
    "name": "ipython",
    "version": 2
   },
   "file_extension": ".py",
   "mimetype": "text/x-python",
   "name": "python",
   "nbconvert_exporter": "python",
   "pygments_lexer": "ipython2",
   "version": "2.7.18"
  }
 },
 "nbformat": 4,
 "nbformat_minor": 4
}
